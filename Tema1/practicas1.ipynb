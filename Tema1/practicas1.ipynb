{
 "cells": [
  {
   "cell_type": "markdown",
   "id": "835644c5-d843-4e71-9733-5e141698d543",
   "metadata": {
    "tags": []
   },
   "source": [
    "# <b>Bloque 1 de ejercicios Python </b>"
   ]
  },
  {
   "cell_type": "markdown",
   "id": "f4af196a-b1f8-4f11-b5dc-c55e52a1f06f",
   "metadata": {
    "tags": []
   },
   "source": [
    "### 1. Escribir un programa que almacene a cadea ¡Hola Mundo...! nunha variable e e logo mostre por pantalla o contido da variable."
   ]
  },
  {
   "cell_type": "markdown",
   "id": "651bf499-a994-4647-8589-55d4b42f83ef",
   "metadata": {
    "tags": []
   },
   "source": [
    "var = \"Hola mundo...!\"\n",
    "print(var)"
   ]
  },
  {
   "cell_type": "markdown",
   "id": "20a1c4c1-0151-47bb-b007-5aa416bcf6ae",
   "metadata": {},
   "source": [
    "### 2. Escribir un programa que pregunte ao usuario polo número de horas traballadas e o costepor hora en € con dous decimais. Despois debe mostrar por pantalla a paga que lle corresponde na mesma condición."
   ]
  },
  {
   "cell_type": "code",
   "execution_count": 9,
   "id": "28fec08c-1393-4dae-b1fd-0e84eb4f0dd5",
   "metadata": {
    "tags": []
   },
   "outputs": [
    {
     "name": "stdin",
     "output_type": "stream",
     "text": [
      "Indique el número de horas trabajadas por el empleado:  5\n",
      "Indique el coste por hora (0.00):  6\n"
     ]
    },
    {
     "name": "stdout",
     "output_type": "stream",
     "text": [
      "El coste de horas extras es de:  30.0 €\n"
     ]
    }
   ],
   "source": [
    "#horas = input(\"Indique el número de horas trabajadas por el empleado: \")\n",
    "horas = float(input(\"Indique el número de horas trabajadas por el empleado: \"))\n",
    "coste = float(input(\"Indique el coste por hora (0.00): \"))\n",
    "#total = float(horas)*float(coste)\n",
    "total = horas*coste\n",
    "print(\"El coste de horas extras es de: \", round(total, 2), \"€\")"
   ]
  },
  {
   "cell_type": "markdown",
   "id": "bb87b618-9429-446c-98a4-13ebcd7ca70b",
   "metadata": {},
   "source": [
    "### 3. Dados unha cifra en segundos fai a transformación en horas, minutos e segundos. Repite o exercicio de forma inversa, dada unha cifra en horas, minutos e segundos, transforma en segundos. "
   ]
  },
  {
   "cell_type": "code",
   "execution_count": 14,
   "id": "8ad03867-68d8-41f5-bc3c-9bdb18725063",
   "metadata": {
    "tags": []
   },
   "outputs": [
    {
     "name": "stdin",
     "output_type": "stream",
     "text": [
      "Introduce los segundos: 1293012\n"
     ]
    },
    {
     "name": "stdout",
     "output_type": "stream",
     "text": [
      "El total de minutos es de:  21550.2\n",
      "El total de horas es de:  359.17\n"
     ]
    }
   ],
   "source": [
    "segundos = float(input(\"Introduce los segundos:\"))\n",
    "minutos = (segundos / 60)\n",
    "horas = (minutos / 60)\n",
    "print(\"El total de minutos es de: \", minutos)\n",
    "print(\"El total de horas es de: \", horas)"
   ]
  },
  {
   "cell_type": "code",
   "execution_count": 16,
   "id": "ba7010c6-cb24-4941-b70a-cb6af1efb7c1",
   "metadata": {
    "tags": []
   },
   "outputs": [
    {
     "name": "stdin",
     "output_type": "stream",
     "text": [
      "Introduce las horas: 6\n"
     ]
    },
    {
     "name": "stdout",
     "output_type": "stream",
     "text": [
      "El total de minutos es de:  360.0\n",
      "El total de segundos es de:  21600.0\n"
     ]
    }
   ],
   "source": [
    "horas = float(input(\"Introduce las horas:\"))\n",
    "minutos = (horas * 60)\n",
    "segundos = (minutos * 60)\n",
    "print(\"El total de minutos es de: \", minutos)\n",
    "print(\"El total de segundos es de: \", segundos)"
   ]
  },
  {
   "cell_type": "markdown",
   "id": "90799d75-974e-4fbf-af8d-f892463bf1e3",
   "metadata": {},
   "source": [
    "### 4. Escribir un programa que lle pida ao usuario seu peso (en kg) e estatura (en metros), calcule o índice de masa corporal e o almacene nunha variable <imc> mostrando por pantalla a frase: Teu índice de masa corporal é $<$imc$>$, con dos decimales. \n",
    "### Fórmula: imc = peso/estatura2"
   ]
  },
  {
   "cell_type": "code",
   "execution_count": 19,
   "id": "25c7a8af-6739-44f4-a2f0-c13c04632df2",
   "metadata": {
    "tags": []
   },
   "outputs": [
    {
     "name": "stdin",
     "output_type": "stream",
     "text": [
      "Introduce tu peso en (kg) 80\n",
      "Introduce tu altura (metros) 1.79\n"
     ]
    },
    {
     "name": "stdout",
     "output_type": "stream",
     "text": [
      "24.97\n"
     ]
    }
   ],
   "source": [
    "peso = float(input(\"Introduce tu peso en (kg)\"))\n",
    "estatura = float(input(\"Introduce tu altura (metros)\"))\n",
    "indiceMasaCorporal = (peso/(estatura*estatura))\n",
    "print(round(indiceMasaCorporal, 2))"
   ]
  },
  {
   "cell_type": "markdown",
   "id": "ef6f5ca8-b2a8-4585-a7cc-b8fa918f4fa3",
   "metadata": {},
   "source": [
    "### 5. Escribe un programa que solicite la fecha de nacimiento de un usuario y calcule su edad actual.\n"
   ]
  },
  {
   "cell_type": "code",
   "execution_count": 35,
   "id": "a5feab41-9a6d-4f5a-beb0-50500f9c9472",
   "metadata": {
    "tags": []
   },
   "outputs": [
    {
     "name": "stdin",
     "output_type": "stream",
     "text": [
      "Ingresa tu fecha de nacimiento (YYYY-MM-DD): 2000-10-02\n"
     ]
    },
    {
     "name": "stdout",
     "output_type": "stream",
     "text": [
      "Tu edad es:  22  años.\n"
     ]
    }
   ],
   "source": [
    "import datetime\n",
    "fechaNacimiento = input(\"Ingresa tu fecha de nacimiento (YYYY-MM-DD):\")\n",
    "# 2000-10-02\n",
    "fechaNacimiento = datetime.datetime.strptime(fechaNacimiento, \"%Y-%m-%d\")\n",
    "#print(\"- \",fechaNacimiento)\n",
    "\n",
    "fechaActual = datetime.datetime.now()\n",
    "#print(\"- \",fechaActual)\n",
    "diferenciaFechas = ( fechaActual - fechaNacimiento)\n",
    "#print(\"- \",diferenciaFechas)\n",
    "edadUsuario = int(diferenciaFechas.days / 365)\n",
    "#print(\"- \", edadUsuario)\n",
    "\n",
    "print(\"Tu edad es: \", edadUsuario, \" años.\")"
   ]
  },
  {
   "cell_type": "markdown",
   "id": "09224374-c48a-4d43-82f9-d662d796c6d9",
   "metadata": {},
   "source": [
    "### 6. Dado el radio de una circunferencia calcula su perímetro y área.\n",
    "### Usad función math para usar pi"
   ]
  },
  {
   "cell_type": "code",
   "execution_count": null,
   "id": "37f2cbb9-d7af-4890-bc72-6f71c7ebee12",
   "metadata": {},
   "outputs": [],
   "source": []
  }
 ],
 "metadata": {
  "kernelspec": {
   "display_name": "Python 3 (ipykernel)",
   "language": "python",
   "name": "python3"
  },
  "language_info": {
   "codemirror_mode": {
    "name": "ipython",
    "version": 3
   },
   "file_extension": ".py",
   "mimetype": "text/x-python",
   "name": "python",
   "nbconvert_exporter": "python",
   "pygments_lexer": "ipython3",
   "version": "3.11.3"
  }
 },
 "nbformat": 4,
 "nbformat_minor": 5
}
