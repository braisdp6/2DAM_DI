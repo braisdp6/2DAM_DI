{
 "cells": [
  {
   "cell_type": "markdown",
   "id": "35e7ceff-a147-4cde-bd1c-202d99029167",
   "metadata": {},
   "source": [
    "# LISTAS TUPLAS Y DICCIONARIOS"
   ]
  },
  {
   "cell_type": "markdown",
   "id": "799b685d-89c8-4496-80ce-1c01f7ab4c73",
   "metadata": {
    "tags": []
   },
   "source": [
    "### 1. Crea unha lista de N elementos, dato que se pide por teclado, e a continuación enchese de números enteiros aleatorios entre 1 e 10.\n",
    "### Posteriormente mostra a lista e o número que máis se repite."
   ]
  },
  {
   "cell_type": "code",
   "execution_count": 23,
   "id": "e0f16ad6-cf6a-414b-8e05-9c837435fc53",
   "metadata": {
    "tags": []
   },
   "outputs": [
    {
     "name": "stdin",
     "output_type": "stream",
     "text": [
      "Introduce la cantidad de elementos de la lista: 20\n"
     ]
    },
    {
     "name": "stdout",
     "output_type": "stream",
     "text": [
      "Lista generada: [1, 3, 7, 2, 10, 7, 9, 5, 4, 5, 2, 10, 9, 1, 3, 2, 10, 1, 4, 4]\n",
      "Counter({1: 3, 2: 3, 10: 3, 4: 3, 3: 2, 7: 2, 9: 2, 5: 2})\n",
      "1\n",
      "3\n"
     ]
    }
   ],
   "source": [
    "import random\n",
    "from collections import Counter\n",
    "\n",
    "nElementosLista = int(input(\"Introduce la cantidad de elementos de la lista:\"))\n",
    "i = 0\n",
    "while(i < nElementosLista):\n",
    "    listaNumeros += [random.randint(1, 10)]\n",
    "    i+= 1\n",
    "\n",
    "print(\"Lista generada:\", listaNumeros)\n",
    "\n",
    "conteo = Counter(listaNumeros)\n",
    "print(conteo)\n",
    "num_mas_comun = max(conteo, key = conteo.get)\n",
    "repeticiones = conteo[num_mas_comun]\n",
    "\n",
    "print(num_mas_comun)\n",
    "print(repeticiones)\n",
    "\n",
    "listaNumeros.clear()"
   ]
  },
  {
   "cell_type": "code",
   "execution_count": null,
   "id": "69a0682e-24f6-417e-9f03-119fdd5540c0",
   "metadata": {},
   "outputs": [],
   "source": []
  },
  {
   "cell_type": "code",
   "execution_count": null,
   "id": "c822296b-ed09-49b5-84e1-34b585d0dd8d",
   "metadata": {},
   "outputs": [],
   "source": []
  }
 ],
 "metadata": {
  "kernelspec": {
   "display_name": "Python 3 (ipykernel)",
   "language": "python",
   "name": "python3"
  },
  "language_info": {
   "codemirror_mode": {
    "name": "ipython",
    "version": 3
   },
   "file_extension": ".py",
   "mimetype": "text/x-python",
   "name": "python",
   "nbconvert_exporter": "python",
   "pygments_lexer": "ipython3",
   "version": "3.11.3"
  }
 },
 "nbformat": 4,
 "nbformat_minor": 5
}
