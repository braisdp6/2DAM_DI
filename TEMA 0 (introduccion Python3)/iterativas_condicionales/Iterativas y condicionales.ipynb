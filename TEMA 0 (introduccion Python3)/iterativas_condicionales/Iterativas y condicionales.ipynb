{
 "cells": [
  {
   "cell_type": "markdown",
   "id": "3ae4442f-c74e-4e77-a00b-ca03ac17d4d4",
   "metadata": {
    "tags": []
   },
   "source": [
    "# <b>Bloque 2 de ejercicios Python. Condicionales e iterativas</b>"
   ]
  },
  {
   "cell_type": "markdown",
   "id": "58bb679a-abbe-4a7a-b536-2c116802e3fe",
   "metadata": {},
   "source": [
    "### 1. A conxetura de Collatz indica que calquera número natural pode transformarse en 1 aplicando os pasos seguintes: si é par, dividir por 2, se é impar multiplicar por 3 e sumarlle 1.\n",
    "### Codifica un programa que pedindo un número mostre toda a sucesión de números resultantes ata convertilo en 1."
   ]
  },
  {
   "cell_type": "code",
   "execution_count": 15,
   "id": "3513eb5b-bb21-4086-bf0c-ad8a79f4afc5",
   "metadata": {
    "tags": []
   },
   "outputs": [
    {
     "name": "stdout",
     "output_type": "stream",
     "text": [
      "Introduce un numero: 123\n",
      "Numero impar:  123\n",
      "Numero par:  370\n",
      "Numero impar:  185.0\n",
      "Numero par:  556.0\n",
      "Numero par:  278.0\n",
      "Numero impar:  139.0\n",
      "Numero par:  418.0\n",
      "Numero impar:  209.0\n",
      "Numero par:  628.0\n",
      "Numero par:  314.0\n",
      "Numero impar:  157.0\n",
      "Numero par:  472.0\n",
      "Numero par:  236.0\n",
      "Numero par:  118.0\n",
      "Numero impar:  59.0\n",
      "Numero par:  178.0\n",
      "Numero impar:  89.0\n",
      "Numero par:  268.0\n",
      "Numero par:  134.0\n",
      "Numero impar:  67.0\n",
      "Numero par:  202.0\n",
      "Numero impar:  101.0\n",
      "Numero par:  304.0\n",
      "Numero par:  152.0\n",
      "Numero par:  76.0\n",
      "Numero par:  38.0\n",
      "Numero impar:  19.0\n",
      "Numero par:  58.0\n",
      "Numero impar:  29.0\n",
      "Numero par:  88.0\n",
      "Numero par:  44.0\n",
      "Numero par:  22.0\n",
      "Numero impar:  11.0\n",
      "Numero par:  34.0\n",
      "Numero impar:  17.0\n",
      "Numero par:  52.0\n",
      "Numero par:  26.0\n",
      "Numero impar:  13.0\n",
      "Numero par:  40.0\n",
      "Numero par:  20.0\n",
      "Numero par:  10.0\n",
      "Numero impar:  5.0\n",
      "Numero par:  16.0\n",
      "Numero par:  8.0\n",
      "Numero par:  4.0\n",
      "Numero par:  2.0\n",
      "\n",
      "Numero final:  1.0\n"
     ]
    }
   ],
   "source": [
    "num = int(input(\"Introduce un numero:\"))\n",
    "while num > 1:\n",
    "    if num % 2 != 0:\n",
    "        print(\"Numero impar: \", num)\n",
    "        num = (num * 3) + 1\n",
    "    else:\n",
    "        print(\"Numero par: \", num)\n",
    "        num = num / 2\n",
    "print(\"\\nNumero final: \", num)"
   ]
  },
  {
   "cell_type": "markdown",
   "id": "e0b1b0c2-c9b4-4433-bcd3-b582652b9f95",
   "metadata": {},
   "source": [
    "### 2. Mastermind é un xogo que consiste en adiviñar un número. \n",
    "### Codifica un programa que xenere un número entero aleatorio entre 1 e 100. A continuación iranos pedindo que adiviñemos o número. A axuda do programa será que si erramos diranos que o número que indicamos é maior ou menor que o que número aleatorio. Deberás incluir o número de intentos ao final da execución do programa. \n",
    "### Ademáis, propoñer o programa para dous xogadores, e quen é o vencedor."
   ]
  },
  {
   "cell_type": "code",
   "execution_count": 1,
   "id": "748dec90-18c1-479e-9cd4-cad6ec8b0695",
   "metadata": {
    "tags": []
   },
   "outputs": [
    {
     "name": "stdout",
     "output_type": "stream",
     "text": [
      "Jugador 1:\n",
      "Número correcto: 25\n"
     ]
    },
    {
     "ename": "ValueError",
     "evalue": "invalid literal for int() with base 10: ''",
     "output_type": "error",
     "traceback": [
      "\u001b[1;31m---------------------------------------------------------------------------\u001b[0m",
      "\u001b[1;31mValueError\u001b[0m                                Traceback (most recent call last)",
      "\u001b[1;32mc:\\Users\\a19braisdp\\dockerDI\\notebooks\\Iterativas y condicionales.ipynb Cell 5\u001b[0m line \u001b[0;36m2\n\u001b[0;32m     <a href='vscode-notebook-cell:/c%3A/Users/a19braisdp/dockerDI/notebooks/Iterativas%20y%20condicionales.ipynb#W4sZmlsZQ%3D%3D?line=18'>19</a>\u001b[0m \u001b[39m# Llamada al metodo\u001b[39;00m\n\u001b[0;32m     <a href='vscode-notebook-cell:/c%3A/Users/a19braisdp/dockerDI/notebooks/Iterativas%20y%20condicionales.ipynb#W4sZmlsZQ%3D%3D?line=19'>20</a>\u001b[0m \u001b[39mprint\u001b[39m(\u001b[39m\"\u001b[39m\u001b[39mJugador 1:\u001b[39m\u001b[39m\"\u001b[39m)\n\u001b[1;32m---> <a href='vscode-notebook-cell:/c%3A/Users/a19braisdp/dockerDI/notebooks/Iterativas%20y%20condicionales.ipynb#W4sZmlsZQ%3D%3D?line=20'>21</a>\u001b[0m game1 \u001b[39m=\u001b[39m mastermind()\n\u001b[0;32m     <a href='vscode-notebook-cell:/c%3A/Users/a19braisdp/dockerDI/notebooks/Iterativas%20y%20condicionales.ipynb#W4sZmlsZQ%3D%3D?line=22'>23</a>\u001b[0m \u001b[39mprint\u001b[39m(\u001b[39m\"\u001b[39m\u001b[39m\\n\u001b[39;00m\u001b[39mJugador 2:\u001b[39m\u001b[39m\"\u001b[39m)\n\u001b[0;32m     <a href='vscode-notebook-cell:/c%3A/Users/a19braisdp/dockerDI/notebooks/Iterativas%20y%20condicionales.ipynb#W4sZmlsZQ%3D%3D?line=23'>24</a>\u001b[0m game2 \u001b[39m=\u001b[39m mastermind()\n",
      "\u001b[1;32mc:\\Users\\a19braisdp\\dockerDI\\notebooks\\Iterativas y condicionales.ipynb Cell 5\u001b[0m line \u001b[0;36m1\n\u001b[0;32m      <a href='vscode-notebook-cell:/c%3A/Users/a19braisdp/dockerDI/notebooks/Iterativas%20y%20condicionales.ipynb#W4sZmlsZQ%3D%3D?line=7'>8</a>\u001b[0m \u001b[39mwhile\u001b[39;00m \u001b[39mTrue\u001b[39;00m:\n\u001b[0;32m      <a href='vscode-notebook-cell:/c%3A/Users/a19braisdp/dockerDI/notebooks/Iterativas%20y%20condicionales.ipynb#W4sZmlsZQ%3D%3D?line=8'>9</a>\u001b[0m     numIntentos \u001b[39m+\u001b[39m\u001b[39m=\u001b[39m \u001b[39m1\u001b[39m\n\u001b[1;32m---> <a href='vscode-notebook-cell:/c%3A/Users/a19braisdp/dockerDI/notebooks/Iterativas%20y%20condicionales.ipynb#W4sZmlsZQ%3D%3D?line=9'>10</a>\u001b[0m     n \u001b[39m=\u001b[39m \u001b[39mint\u001b[39;49m(\u001b[39minput\u001b[39;49m(\u001b[39m\"\u001b[39;49m\u001b[39mAdivina un número del 1 al 100: \u001b[39;49m\u001b[39m\"\u001b[39;49m))\n\u001b[0;32m     <a href='vscode-notebook-cell:/c%3A/Users/a19braisdp/dockerDI/notebooks/Iterativas%20y%20condicionales.ipynb#W4sZmlsZQ%3D%3D?line=10'>11</a>\u001b[0m     \u001b[39mif\u001b[39;00m n \u001b[39m==\u001b[39m numCorrecto:\n\u001b[0;32m     <a href='vscode-notebook-cell:/c%3A/Users/a19braisdp/dockerDI/notebooks/Iterativas%20y%20condicionales.ipynb#W4sZmlsZQ%3D%3D?line=11'>12</a>\u001b[0m         \u001b[39mprint\u001b[39m(\u001b[39m\"\u001b[39m\u001b[39m¡Has acertado!\u001b[39m\u001b[39m\\n\u001b[39;00m\u001b[39mNúmero de intentos:\u001b[39m\u001b[39m\"\u001b[39m, numIntentos)\n",
      "\u001b[1;31mValueError\u001b[0m: invalid literal for int() with base 10: ''"
     ]
    }
   ],
   "source": [
    "import random\n",
    "\n",
    "def mastermind():\n",
    "    numCorrecto = int(random.randrange(1, 101))\n",
    "    print(\"Número correcto:\", numCorrecto)\n",
    "    numIntentos = 0\n",
    "    \n",
    "    while True:\n",
    "        numIntentos += 1\n",
    "        n = int(input(\"Adivina un número del 1 al 100: \"))\n",
    "        if n == numCorrecto:\n",
    "            print(\"¡Has acertado!\\nNúmero de intentos:\", numIntentos)\n",
    "            return numIntentos\n",
    "        elif n > numCorrecto:\n",
    "            print(\"Prueba con un número más bajo.\")\n",
    "        else:\n",
    "            print(\"Prueba con un número más alto.\")\n",
    "\n",
    "# Llamada al metodo\n",
    "print(\"Jugador 1:\")\n",
    "game1 = mastermind()\n",
    "\n",
    "print(\"\\nJugador 2:\")\n",
    "game2 = mastermind()\n",
    "\n",
    "# Resultado\n",
    "if game1 == game2:\n",
    "    print(\"Habeis empatado!\")\n",
    "elif game1 < game2:\n",
    "    print(\"El jugador 1 ha ganado.\")\n",
    "else:\n",
    "    print(\"El jugador 2 ha ganado.\")\n"
   ]
  },
  {
   "cell_type": "markdown",
   "id": "2347ee69-4f2c-482a-a587-72ba104c6b81",
   "metadata": {},
   "source": [
    "### 3. Algoritmo de Luhn.- Una tarjeta de crédito, o una tarjeta SIM, si suma de la reversa de los números pares x 2 con la reversa de los números impares es un número acabado en 0. \n",
    "### Ejemplo:\n",
    "- Número de ejemplo: \n",
    "4 9 9 2 7 3 9 8 7 1 6\n",
    "- Se multiplica por 2 los dígitos que ocupan las posiciones pares empezando por el final: \n",
    " (1×2) = 2, (8×2) = 16, (3×2) = 6, (2×2) = 4, (9×2) = 18\n",
    "- Se suman los dígitos que ocupan las posiciones impares con los dígitos de los productos obtenidos: \n",
    "6 + (2) + 7 + (1+6) + 9 + (6) + 7 + (4) + 9 + (1+8) + 4 = 70. \n",
    "(1+6) es por la multiplicación de 8x2 y (1+8) es por la multiplicación de 9x2 del primer punto\n",
    "- Al ser 70, acabada en 0, es válido: 70 mod 10 = 0"
   ]
  },
  {
   "cell_type": "code",
   "execution_count": null,
   "id": "6b5d7bd1-5c1a-4dfd-b777-1e31f3a5af5e",
   "metadata": {},
   "outputs": [],
   "source": []
  }
 ],
 "metadata": {
  "kernelspec": {
   "display_name": "Python 3 (ipykernel)",
   "language": "python",
   "name": "python3"
  },
  "language_info": {
   "codemirror_mode": {
    "name": "ipython",
    "version": 3
   },
   "file_extension": ".py",
   "mimetype": "text/x-python",
   "name": "python",
   "nbconvert_exporter": "python",
   "pygments_lexer": "ipython3",
   "version": "3.11.3"
  }
 },
 "nbformat": 4,
 "nbformat_minor": 5
}
